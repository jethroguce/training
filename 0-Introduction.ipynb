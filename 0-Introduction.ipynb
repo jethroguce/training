{
 "cells": [
  {
   "cell_type": "markdown",
   "metadata": {
    "slideshow": {
     "slide_type": "slide"
    }
   },
   "source": [
    "Python for Total Beginners\n",
    "==========================\n",
    "\n",
    "0 - Introduction\n",
    "----------------\n",
    "\n",
    "\n",
    "> A computer is like a Swiss Army knife that you can configure for countless tasks. Many people spend hours clicking and typing to perform repetitive tasks, unaware that the machine they’re using could do their job in seconds if they gave it the right instructions.\n",
    "\n",
    "### What Is Programming?\n",
    "Programming is simply the act of entering instructions for the computer to perform. These instructions might crunch some numbers, modify text, look up information in files, or communicate with other computers over the Internet.\n",
    "All programs use basic instructions as building blocks. Here are a few of the most common ones, in English:\n",
    "\n",
    "* “Do this; then do that.”\n",
    "* “If this condition is true, perform this action; otherwise, do that action.”\n",
    "* “Do this action that number of times.”\n",
    "* “Keep doing that until this condition is true.”\n",
    "\n",
    "\n",
    "### Programming Is a Creative Activity\n",
    "\n",
    "Programming is a creative task, somewhat like constructing a castle out of LEGO bricks. You start with a basic idea of what you want your castle to look like and inventory your available blocks. Then you start building. Once you’ve finished building your program, you can pretty up your code just like you would your castle.\n",
    "\n",
    "### What is a program?\n",
    "A program is a sequence of instructions that specifies how to perform a computation. The computation might be something mathematical, such as solving a system of equations or finding the roots of a polynomial, but it can also be a symbolic computation, such as searching and replacing text in a document.\n",
    "\n",
    "The details look different in different languages, but a few basic instructions appear in just about every language:\n",
    "\n",
    "#### input\n",
    "Get data from the keyboard, a file, or some other device.\n",
    "#### output\n",
    "Display data on the screen or send data to a file or other device.\n",
    "#### math\n",
    "Perform basic mathematical operations like addition and multiplication.\n",
    "#### conditional execution\n",
    "Check for certain conditions and execute the appropriate sequence of statements.\n",
    "#### repetition\n",
    "Perform some action repeatedly, usually with some variation.\n",
    "\n",
    "Believe it or not, that’s pretty much all there is to it. Every program you’ve ever used, no matter how complicated, is made up of instructions that look more or less like these. Thus, we can describe programming as the process of breaking a large, complex task into smaller and smaller subtasks until the subtasks are simple enough to be performed with sequences of these basic instructions.\n",
    "\n",
    "### What is debugging?\n",
    "Programming is a complex process, and because it is done by human beings, it often leads to errors. Programming errors are called bugs and the process of tracking them down and correcting them is called debugging. Use of the term bug to describe small engineering difficulties dates back to at least 1889, when Thomas Edison had a bug with his phonograph.\n",
    "\n",
    "Three kinds of errors can occur in a program: `syntax errors`, `runtime errors`, and `semantic errors`. It is useful to distinguish between them in order to track them down more quickly.\n",
    "\n",
    "#### Syntax errors\n",
    "Python can only execute a program if the program is syntactically correct; otherwise, the process fails and returns an error message. Syntax refers to the structure of a program and the rules about that structure. For example, in English, a sentence must begin with a capital letter and end with a period. this sentence contains a syntax error. So does this one\n",
    "\n",
    "For most readers, a few syntax errors are not a significant problem. Python is not so forgiving. If there is a single syntax error anywhere in your program, Python will display an error message and quit, and you will not be able to run your program. \n",
    "\n",
    "#### Runtime errors\n",
    "The second type of error is a runtime error, so called because the error does not appear until you run the program. These errors are also called exceptions because they usually indicate that something exceptional (and bad) has happened.\n",
    "\n",
    "#### Semantic errors / Logical errors\n",
    "The third type of error is the semantic error. If there is a semantic error in your program, it will run successfully, in the sense that the computer will not generate any error messages, but it will not do the right thing. It will do something else. Specifically, it will do what you told it to do.\n",
    "\n",
    "The problem is that the program you wrote is not the program you wanted to write. The meaning of the program (its semantics) is wrong. Identifying semantic errors can be tricky because it requires you to work backward by looking at the output of the program and trying to figure out what it is doing.\n",
    "\n",
    "### Experimental debugging\n",
    "One of the most important skills you will acquire is debugging. Although it can be frustrating, debugging is one of the most intellectually rich, challenging, and interesting parts of programming.\n",
    "\n",
    "In some ways, debugging is like detective work. You are confronted with clues, and you have to infer the processes and events that led to the results you see.\n",
    "\n",
    "Debugging is also like an experimental science. Once you have an idea what is going wrong, you modify your program and try again. If your hypothesis was correct, then you can predict the result of the modification, and you take a step closer to a working program. If your hypothesis was wrong, you have to come up with a new one. As Sherlock Holmes pointed out, When you have eliminated the impossible, whatever remains, however improbable, must be the truth. (A. Conan Doyle, The Sign of Four)\n",
    "\n",
    "For some people, programming and debugging are the same thing. That is, programming is the process of gradually debugging a program until it does what you want. The idea is that you should start with a program that does something and make small modifications, debugging them as you go, so that you always have a working program.\n",
    "\n"
   ]
  },
  {
   "cell_type": "code",
   "execution_count": null,
   "metadata": {
    "collapsed": true
   },
   "outputs": [],
   "source": []
  },
  {
   "cell_type": "code",
   "execution_count": null,
   "metadata": {
    "collapsed": true
   },
   "outputs": [],
   "source": []
  },
  {
   "cell_type": "markdown",
   "metadata": {},
   "source": [
    "\n",
    "### About this guide:\n",
    "This guide is intended for beginners. This material hopes to guide you on your programming adventure using Python language. \n",
    "\n",
    "### How to Find Help\n",
    "Through this guide, you might get stucked on some parts but we'll try to explain almost everything you might need here. But this guide is not made a teacher or a professor or some highly skilled trainor so it will not be able cover all issues that you might encounter.\n",
    "\n",
    "If you have an internet access you can search online using your favorite search engine and you should see tons of links explaining what the error message means and what causes it. You’ll often find that someone else had the same question as you and that some other helpful person has already answered it. No one person can know everything about programming, so an everyday part of any software developer’s job is looking up answers to technical questions.\n",
    "\n",
    "##### Asking Smart Programming Questions\n",
    "If you can’t find the answer by searching online, or you don't have an internet access, try asking other people. But keep in mind there are smart ways to ask programming questions that help others help you.\n",
    "\n",
    "When asking programming questions, remember to do the following:\n",
    "* Explain what you are trying to do, not just what you did. This lets your helper know if you are on the wrong track.\n",
    "* Specify the point at which the error happens. Does it occur at the very start of the program or only after you do a certain action?\n",
    "* Take note of the _entire_ error message and possibly your code.\n",
    "* Explain what you’ve already tried to do to solve your problem. This tells people you’ve already put in some work to figure things out on your own.\n",
    "* If the error came up after you made a change to your code, explain exactly what you changed.\n",
    "* Say whether you’re able to reproduce the error every time you run the program or whether it happens only after you perform certain actions. Explain what those actions are, if so.\n",
    "\n",
    "And always remember to ask politely.\n",
    "\n",
    "### Summary\n",
    "For most people, their computer is just an appliance instead of a tool. But by learning how to program, you’ll gain access to one of the most powerful tools of the modern world, and you’ll have fun along the way. Programming isn’t brain surgery—it’s fine for amateurs to experiment and make mistakes.\n",
    "This guide will start you off from zero programming knowledge, but you may have questions beyond its scope. Remember that asking effective questions and knowing how to find answers are invaluable tools on your programming journey.\n",
    "\n",
    "\n",
    "Let’s begin!"
   ]
  },
  {
   "cell_type": "code",
   "execution_count": null,
   "metadata": {
    "collapsed": true
   },
   "outputs": [],
   "source": []
  }
 ],
 "metadata": {
  "celltoolbar": "Raw Cell Format",
  "kernelspec": {
   "display_name": "Python 3",
   "language": "python",
   "name": "python3"
  },
  "language_info": {
   "codemirror_mode": {
    "name": "ipython",
    "version": 3
   },
   "file_extension": ".py",
   "mimetype": "text/x-python",
   "name": "python",
   "nbconvert_exporter": "python",
   "pygments_lexer": "ipython3",
   "version": "3.4.4rc1"
  }
 },
 "nbformat": 4,
 "nbformat_minor": 0
}
