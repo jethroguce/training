{
 "cells": [
  {
   "cell_type": "markdown",
   "metadata": {},
   "source": [
    "# About this class"
   ]
  },
  {
   "cell_type": "markdown",
   "metadata": {},
   "source": [
    "## This class aims to:\n",
    " - discuss and share the tools, practices, and technologies that we have learned and discovered.\n",
    " - improve everyones skill and knowledge\n",
    " - make us a better team and individuals"
   ]
  },
  {
   "cell_type": "markdown",
   "metadata": {},
   "source": [
    "# What is a Computer?\n",
    "A device that computes, especially a programmable electronic machine that performs high-speed mathematical or logical operations or that assembles, stores, correlates, or otherwise processes information."
   ]
  },
  {
   "cell_type": "markdown",
   "metadata": {},
   "source": [
    "# What is a Program?\n",
    "- is a sequence of instructions that dictate the flow of electrical impulses within a computer system.\n",
    "- A program is a set of instructions\n"
   ]
  },
  {
   "cell_type": "markdown",
   "metadata": {},
   "source": [
    "# What is Programming?\n",
    "- Programming is telling your computer how to do something. \n",
    ">    Large tasks must be broken up into smaller tasks, which must be broken up into still smaller tasks, down until you get to the most basic tasks that you don’t have to describe—the tasks your computer already knows how to do. (These are really basic things such as arithmetic or display- ing some text on your screen.)\n",
    "- The heart and soul of programming is to define new operations and combine them to do useful things."
   ]
  },
  {
   "cell_type": "markdown",
   "metadata": {},
   "source": [
    "# What is debugging?\n",
    "- is the process of finding bugs\n",
    "- proccess of finding errors and solving problems with a program"
   ]
  },
  {
   "cell_type": "markdown",
   "metadata": {},
   "source": [
    "# What is a bug?\n",
    "- is a programming error\n",
    "> What happened is that the people who wrote the program told the computer to do something it couldn’t do: open a file that didn’t exist, perhaps, or keep track of more information than the computer could handle, or maybe repeat a task with no way of stopping other than by rebooting the computer. (Programmers don’t mean to make these kinds of mistakes, but they are very hard to avoid.)"
   ]
  },
  {
   "cell_type": "markdown",
   "metadata": {},
   "source": [
    "# What are the different type of bugs?\n",
    "\n",
    "## Syntax errors\n",
    "- are those that appear while you write code\n",
    "- errors due to the fact that the syntax of the language is not respected.\n",
    "- bad punctuations, unterminated grouping\n",
    "\n",
    "## Run-time Errors\n",
    "- are those that appear only after run your code.\n",
    "- These involve code that may appear to be correct in that it has no syntax errors, but that will not execute.\n",
    "- opening a file that doesn't exist', importing a module that doesn't exist, using an undefined variable\n",
    "\n",
    "## Logic Errors\n",
    "- appear once the application is in use\n",
    "- Logic errors are generally the hardest type to fix, since it is not always clear where they originate.\n",
    "- Users input 2 and 3 for addition but gets 6"
   ]
  },
  {
   "cell_type": "markdown",
   "metadata": {},
   "source": [
    "# What is a Programming Language?\n",
    "\n",
    "- similar to a human lanuage in that it’s made up of basic elements (such as nouns and verbs) and ways to combine those elements to create meaning\n",
    "- is a formal computer language or constructed language designed to communicate instructions to a machine, particularly a computer. Programming languages can be used to create programs to control the behavior of a machine or to express algorithms."
   ]
  },
  {
   "cell_type": "markdown",
   "metadata": {},
   "source": [
    "# The Art of Programming\n",
    "\n",
    "Programming is neither fully an art nor fully a science. Thus far, it's been an unholy combination, a \"craft\" that's somewhere between the two.\n",
    "\n",
    "> An important part of programming is, of course, making a program that does what it’s supposed to do. In other words, it should have no bugs. You know all this. However, focusing on correctness, on bug-free programs, misses a lot of what programming is all about. Programming is not just about the end product; it’s about the process that gets you there. \n",
    "\n",
    "> Programs aren’t just built in one go, like a bridge. They are talked about, sketched out, prototyped, played with, refactored, tuned, tested, tweaked, deleted, rewritten....\n",
    "\n",
    "> A program is not built; it is grown.\n",
    "\n",
    "> Because a program is always growing and always changing, it must be written with change in mind. \n",
    "\n",
    "> Probably the first, most basic rule of good programming is to avoid duplication of code at all costs. This is sometimes called the DRY rule: Don’t Repeat Yourself.\n",
    "\n",
    "> I usually think of it in another way: a good programmer cultivates the virtue of laziness. Save yourself work whenever possible. If making a few changes now means you’ll be able to save yourself more work later, do it! Make your program a place where you can do the absolute minimum amount of work to get the job done. Not only is programming this way much more interesting (it’s very boring to do the same thing over and over and over...), but it produces less buggy code, and it produces it faster. It’s a win-win-win situation."
   ]
  },
  {
   "cell_type": "markdown",
   "metadata": {},
   "source": [
    "# The Artist / Engineer / Developer / Programmer / You\n",
    "\n",
    "- is a person who writes computer software\n",
    "- a person who converts caffeine into code."
   ]
  },
  {
   "cell_type": "markdown",
   "metadata": {},
   "source": [
    "# Your Tools\n",
    "\n",
    "__Your basic building material is human intellect and your primary tool is you.__\n",
    "\n",
    "> The intense inwardness of programming makes personal character especially important. You know how difficult it is to put in eight concentrated hours in one day. You've probably had the experience of being burned out one day from concentrating too hard the day before, or burned out one month from concentrating too hard the month before. You've probably had days on which you've worked well from 8:00 A.M. to 2:00 P.M. and then felt like quitting. You didn't quit, though; you pushed on from 2:00 P.M. to 5:00 P.M. and then spent the rest of the week fixing what you wrote from 2:00 to 5:00.\n",
    "\n",
    "__Your employer can't force you to be a good programmer; a lot of times your employer isn't even in a position to judge whether you're good. If you want to be great, you're responsible for making yourself great. It's a matter of your personal character.__"
   ]
  },
  {
   "cell_type": "markdown",
   "metadata": {},
   "source": [
    "## Intelligence and Humility\n",
    "> We become authorities and experts in the practical and scien- tific spheres by so many separate acts and hours of work. If a person keeps faith- fully busy each hour of the working day, he can count on waking up some morning to find himself one of the competent ones of his generation.\n",
    "- William James\n",
    "\n",
    "Intelligence doesn't seem like an aspect of personal character, and it isn't. Coincidentally, great intelligence is only loosely connected to being a good programmer.\n",
    "What? You don't have to be superintelligent?\n",
    "\n",
    "No, you don't. Nobody is really smart enough to program computers. Fully understanding an average program requires an almost limitless capacity to absorb details and an equal capacity to comprehend them all at the same time. The way you focus your intelligence is more important than how much in- telligence you have.\n",
    "\n",
    "The purpose of many good programming practices is to reduce the load on your gray cells. Here are a few examples:\n",
    "- The point of \"decomposing\" a system is to make it simpler to understand.\n",
    "- Conducting reviews, inspections, and tests is a way of compensating for anticipated human fallibilities.\n",
    "- Keeping routines short helps reduce your mental workload.\n",
    "- Writing programs in terms of the problem domain rather than in computer-science terms and working at the highest level of abstraction reduce the load on your brain.\n",
    "- Usingconventionsofallsortsfreesyourbrainfromtherelativelymun- dane aspects of programming, which offer little payback.\n",
    "\n"
   ]
  },
  {
   "cell_type": "markdown",
   "metadata": {},
   "source": [
    "## Curiosity\n",
    "\n",
    "> Once you admit that your brain is too small to understand most programs and you realize that effective programming is a search for ways to offset that fact, you begin a careerlong search for ways to compensate.\n",
    "\n",
    "### Build your awareness of the development process.\n",
    "Programmers are so busy working they often don't have time to be curious about how they might do their jobs better.\n",
    "\n",
    "__If you're not learning, you're turning into a dinosaur.__\n",
    "\n",
    "### Experiment\n",
    "\n",
    "One effective way to learn about programming is to experiment with programming and the development process. If you don't know how a feature of your language works, write a short program to exercise the feature, and see how it works. Watch the program execute in the debugger. You're better off working with a short program to test a concept than you are writing a larger program with a feature you don't quite understand.\n",
    "\n",
    "\n",
    "### Read about problem solving.\n",
    "\n",
    "Problem solving is the core activity in building computer software.\n",
    "\n",
    "### Analyze and plan before you act. \n",
    "\n",
    "### Learn about successful projects.\n",
    "\n",
    "### Read manuals. API Documentation, Developer Guide\n",
    "\n",
    "### Read other books and subscribe to blogs, mailing lists."
   ]
  },
  {
   "cell_type": "markdown",
   "metadata": {},
   "source": [
    "## Intellectual Honesty\n",
    "\n",
    "Part of maturing as a programming professional is developing an uncom- promising sense of intellectual honesty. Intellectual honesty commonly manifests itself in several ways:\n",
    "- Refusing to pretend you're an expert when you're not\n",
    "- Readily admitting your mistakes\n",
    "- Trying to understand a compiler warning rather than suppressing the message\n",
    "- Clearly understanding your program—not compiling it to see if it works\n",
    "- Providing realistic status reports\n",
    "- Providing realistic schedule estimates and holding your ground when management asks you to adjust them\n",
    "\n",
    "> Any fool can defend his or her mistakes— and most fools do.\n",
    "- Dale Carnegie"
   ]
  },
  {
   "cell_type": "markdown",
   "metadata": {},
   "source": [
    "## Communication and Cooperation\n",
    "\n",
    "Truly excellent programmers learn how to work and play well with others. Writing readable code is part of being a team player.\n",
    "\n",
    "The computer probably reads your program as often as other people do, but it's a lot better at reading poor code than people are. As a readability guide- line, keep the person who has to modify your code in mind. Programming is communicating with another programmer first, communicating with the computer second.\n",
    "\n",
    "### Level 1: Beginner\n",
    "A beginner is a programmer capable of using the basic capabilities of one lan- guage. Such a person can write routines, loops, and conditionals and use many of the features of a language.\n",
    "\n",
    "### Level 2: Intermediate\n",
    "An intermediate programmer is capable of using the basic capabilities of mul- tiple languages and is very comfortable in at least one language.\n",
    "\n",
    "### Level 3: Specialist\n",
    "A programming specialist has expertise in a language or an environment or both. Programmers at this level are valuable to their companies, and some programmers never move beyond this level.\n",
    "\n",
    "### Level 4: Guru\n",
    "A guru has the expertise of a Level 3 specialist and recognizes that program- ming is only 15 percent communicating with the computer, that it's 85 percent communicating with people. Only 30 percent of an average programmer's time is spent working alone (McCue 1978). Even less time is spent com- municating with the computer. The guru writes code for an audience of people rather than machines. True guru-level programmers write code that's crystal-clear, and they document it too. They don't want to waste their valu- able gray cells reconstructing the logic of a section of code that they could have read in a one-sentence comment."
   ]
  },
  {
   "cell_type": "markdown",
   "metadata": {},
   "source": [
    "## Creativity and Discipline\n",
    "\n",
    "A programming masterpiece requires just as much discipline. If you don't try to analyze requirements and design before you begin coding, much of your learning about the project will occur during coding, and the result of your labors will look more like a three-year-old's finger painting than a work of art."
   ]
  },
  {
   "cell_type": "markdown",
   "metadata": {},
   "source": [
    "## Laziness\n",
    "\n",
    "Laziness manifests itself in several ways:\n",
    "- Deferring an unpleasant task\n",
    "- Doing an unpleasant task quickly to get it out of the way\n",
    "- Writing a tool to do the unpleasant task so that you never have to do the task again\n"
   ]
  },
  {
   "cell_type": "markdown",
   "metadata": {},
   "source": [
    "\n",
    "# What is Agile?"
   ]
  },
  {
   "cell_type": "code",
   "execution_count": null,
   "metadata": {
    "collapsed": true
   },
   "outputs": [],
   "source": []
  }
 ],
 "metadata": {
  "kernelspec": {
   "display_name": "Python 3",
   "language": "python",
   "name": "python3"
  },
  "language_info": {
   "codemirror_mode": {
    "name": "ipython",
    "version": 3
   },
   "file_extension": ".py",
   "mimetype": "text/x-python",
   "name": "python",
   "nbconvert_exporter": "python",
   "pygments_lexer": "ipython3",
   "version": "3.4.4rc1"
  }
 },
 "nbformat": 4,
 "nbformat_minor": 0
}
